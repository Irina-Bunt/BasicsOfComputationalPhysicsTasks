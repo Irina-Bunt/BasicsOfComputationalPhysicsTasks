{
 "cells": [
  {
   "cell_type": "markdown",
   "id": "aae1d8ac",
   "metadata": {},
   "source": [
    "## Задача 7"
   ]
  },
  {
   "cell_type": "code",
   "execution_count": 10,
   "id": "9c2bb67f",
   "metadata": {},
   "outputs": [],
   "source": [
    "import matplotlib.pyplot as plt\n",
    "import numpy as np\n",
    "\n",
    "import seaborn as sns\n",
    "sns.set_style(\"darkgrid\")\n",
    "\n",
    "%matplotlib inline\n",
    "\n",
    "import ipywidgets as widgets\n",
    "\n",
    "from functions.diffEquationSolver import RK2, RK4"
   ]
  },
  {
   "cell_type": "markdown",
   "id": "29867ddb",
   "metadata": {},
   "source": [
    "**Lotka-Volterra** also known as predator-prey equation:\n",
    "\n",
    "$\\begin{cases}\n",
    "    \\frac{dx}{dt} = a \\cdot x - b \\cdot xy\\\\\n",
    "    \\frac{dy}{dt} = c \\cdot xy - d \\cdot y\n",
    "\\end{cases}$\n",
    "\n",
    "$a, b, c, d > 0 $"
   ]
  },
  {
   "cell_type": "code",
   "execution_count": 11,
   "id": "21dd44ff",
   "metadata": {},
   "outputs": [
    {
     "data": {
      "application/vnd.jupyter.widget-view+json": {
       "model_id": "cc24126b308c4dd9b33f71cb3f12039c",
       "version_major": 2,
       "version_minor": 0
      },
      "text/plain": [
       "interactive(children=(Dropdown(description='method', options=(('Runge-Kutta2', <function RK2 at 0x000001980FEE…"
      ]
     },
     "metadata": {},
     "output_type": "display_data"
    }
   ],
   "source": [
    "@widgets.interact(method=[('Runge-Kutta2',RK2), ('Runge-Kutta4', RK4)],\n",
    "                  a='10',\n",
    "                  b='2',\n",
    "                  c='2',\n",
    "                  d='10',\n",
    "                  PreyNum=(0, 100),\n",
    "                  PredatorNum=(0, 100),\n",
    "                  T=(1, 20))\n",
    "def solveLotkaVolterra(method=RK2, a=10, b=2, c=2, d=10, PreyNum=2, PredatorNum=2,  T=1):\n",
    "    \n",
    "    a, b, c, d = float(a), float(b), float(c), float(d)\n",
    "    \n",
    "    stat_point = (a / b, d / c)\n",
    "    \n",
    "    print(f\"Stationary points at (Predator, Prey): \\n\\t(0, 0)\\n\\t{stat_point}\")\n",
    "#     print(f\"At (0, 0) always saddle point, because:\\nlambda_1={a}\\nlambda_2={-c}\\nDifferent signs->saddle point\")\n",
    "    print()\n",
    "    \n",
    "    f = lambda t, x, y: np.array([x * (a - b * y), y * (c * x - d)])\n",
    "    \n",
    "    h = 1 / 100000\n",
    "    \n",
    "    t = np.arange(0, T, h)\n",
    "    u = np.empty((len(t), 2))\n",
    "\n",
    "    u[0] = np.array([PreyNum, PredatorNum])\n",
    "\n",
    "    \n",
    "\n",
    "\n",
    "    for i in range(len(u) - 1):\n",
    "        u[i + 1] = method(u[i], f, t[i], h)\n",
    "\n",
    "    fg, ax = plt.subplots(1, 2, figsize=(15, 7), dpi=150)\n",
    "    x = u[:,0]\n",
    "    y = u[:,1]\n",
    "    \n",
    "    sum = 0\n",
    "    count = 0\n",
    "    for i in range(len(y) - 1):  \n",
    "        if (abs(y[i] - y[0]) <= 1e-4) and (abs(y[i] - x[i]) <= 1e-4):\n",
    "            print(t[i])\n",
    "            count += 1 \n",
    "            if count == 2:\n",
    "                break\n",
    "\n",
    "    ax[0].plot(t, x, label='Prey')\n",
    "    ax[0].plot(t, y, label='Predator')\n",
    "    ax[0].set_xlabel('Time')\n",
    "    ax[0].set_ylabel('Number of species')\n",
    "    ax[0].set_title('Prey-Predator model')\n",
    "    ax[0].legend(loc='upper right')\n",
    "    \n",
    "    ax[1].plot(x, y, '--', markevery=5, zorder=0)\n",
    "    ax[1].scatter(PreyNum, PredatorNum, color='red', zorder=1, label=f\"Prey: {PreyNum}, Predator: {PredatorNum}\")\n",
    "    ax[1].set_xlabel('Prey')\n",
    "    ax[1].set_ylabel('Predator')\n",
    "    ax[1].set_title('Phase Plane')\n",
    "    ax[1].legend(loc='upper right')\n",
    "    \n",
    "    "
   ]
  },
  {
   "cell_type": "code",
   "execution_count": null,
   "id": "a2ddeb31",
   "metadata": {},
   "outputs": [],
   "source": []
  },
  {
   "cell_type": "code",
   "execution_count": null,
   "id": "b408452e",
   "metadata": {},
   "outputs": [],
   "source": []
  }
 ],
 "metadata": {
  "kernelspec": {
   "display_name": "Python 3 (ipykernel)",
   "language": "python",
   "name": "python3"
  },
  "language_info": {
   "codemirror_mode": {
    "name": "ipython",
    "version": 3
   },
   "file_extension": ".py",
   "mimetype": "text/x-python",
   "name": "python",
   "nbconvert_exporter": "python",
   "pygments_lexer": "ipython3",
   "version": "3.9.5"
  }
 },
 "nbformat": 4,
 "nbformat_minor": 5
}
