{
 "cells": [
  {
   "cell_type": "markdown",
   "id": "5bad6a09",
   "metadata": {},
   "source": [
    "## Задача 5"
   ]
  },
  {
   "cell_type": "markdown",
   "id": "d8bdd10e",
   "metadata": {},
   "source": [
    "Install packages if required, just delete \"#\" below and run cell"
   ]
  },
  {
   "cell_type": "code",
   "execution_count": 2,
   "id": "6285f889",
   "metadata": {
    "scrolled": true
   },
   "outputs": [
    {
     "name": "stdout",
     "output_type": "stream",
     "text": [
      "Collecting seaborn\n",
      "  Obtaining dependency information for seaborn from https://files.pythonhosted.org/packages/7b/e5/83fcd7e9db036c179e0352bfcd20f81d728197a16f883e7b90307a88e65e/seaborn-0.13.0-py3-none-any.whl.metadata\n",
      "  Downloading seaborn-0.13.0-py3-none-any.whl.metadata (5.3 kB)\n",
      "Requirement already satisfied: ipywidgets in c:\\users\\irina\\appdata\\local\\programs\\python\\python39\\lib\\site-packages (8.0.4)\n",
      "Requirement already satisfied: numpy!=1.24.0,>=1.20 in c:\\users\\irina\\appdata\\local\\programs\\python\\python39\\lib\\site-packages (from seaborn) (1.24.4)\n",
      "Requirement already satisfied: pandas>=1.2 in c:\\users\\irina\\appdata\\local\\programs\\python\\python39\\lib\\site-packages (from seaborn) (2.1.1)\n",
      "Requirement already satisfied: matplotlib!=3.6.1,>=3.3 in c:\\users\\irina\\appdata\\local\\programs\\python\\python39\\lib\\site-packages (from seaborn) (3.5.1)\n",
      "Requirement already satisfied: ipykernel>=4.5.1 in c:\\users\\irina\\appdata\\local\\programs\\python\\python39\\lib\\site-packages (from ipywidgets) (6.21.3)\n",
      "Requirement already satisfied: ipython>=6.1.0 in c:\\users\\irina\\appdata\\local\\programs\\python\\python39\\lib\\site-packages (from ipywidgets) (8.11.0)\n",
      "Requirement already satisfied: traitlets>=4.3.1 in c:\\users\\irina\\appdata\\local\\programs\\python\\python39\\lib\\site-packages (from ipywidgets) (5.9.0)\n",
      "Requirement already satisfied: widgetsnbextension~=4.0 in c:\\users\\irina\\appdata\\local\\programs\\python\\python39\\lib\\site-packages (from ipywidgets) (4.0.5)\n",
      "Requirement already satisfied: jupyterlab-widgets~=3.0 in c:\\users\\irina\\appdata\\local\\programs\\python\\python39\\lib\\site-packages (from ipywidgets) (3.0.5)\n",
      "Requirement already satisfied: comm>=0.1.1 in c:\\users\\irina\\appdata\\local\\programs\\python\\python39\\lib\\site-packages (from ipykernel>=4.5.1->ipywidgets) (0.1.2)\n",
      "Requirement already satisfied: debugpy>=1.6.5 in c:\\users\\irina\\appdata\\local\\programs\\python\\python39\\lib\\site-packages (from ipykernel>=4.5.1->ipywidgets) (1.6.6)\n",
      "Requirement already satisfied: jupyter-client>=6.1.12 in c:\\users\\irina\\appdata\\local\\programs\\python\\python39\\lib\\site-packages (from ipykernel>=4.5.1->ipywidgets) (8.0.3)\n",
      "Requirement already satisfied: jupyter-core!=5.0.*,>=4.12 in c:\\users\\irina\\appdata\\local\\programs\\python\\python39\\lib\\site-packages (from ipykernel>=4.5.1->ipywidgets) (5.2.0)\n",
      "Requirement already satisfied: matplotlib-inline>=0.1 in c:\\users\\irina\\appdata\\local\\programs\\python\\python39\\lib\\site-packages (from ipykernel>=4.5.1->ipywidgets) (0.1.6)\n",
      "Requirement already satisfied: nest-asyncio in c:\\users\\irina\\appdata\\local\\programs\\python\\python39\\lib\\site-packages (from ipykernel>=4.5.1->ipywidgets) (1.5.6)\n",
      "Requirement already satisfied: packaging in c:\\users\\irina\\appdata\\local\\programs\\python\\python39\\lib\\site-packages (from ipykernel>=4.5.1->ipywidgets) (21.3)\n",
      "Requirement already satisfied: psutil in c:\\users\\irina\\appdata\\local\\programs\\python\\python39\\lib\\site-packages (from ipykernel>=4.5.1->ipywidgets) (5.9.4)\n",
      "Requirement already satisfied: pyzmq>=20 in c:\\users\\irina\\appdata\\local\\programs\\python\\python39\\lib\\site-packages (from ipykernel>=4.5.1->ipywidgets) (25.0.1)\n",
      "Requirement already satisfied: tornado>=6.1 in c:\\users\\irina\\appdata\\local\\programs\\python\\python39\\lib\\site-packages (from ipykernel>=4.5.1->ipywidgets) (6.2)\n",
      "Requirement already satisfied: backcall in c:\\users\\irina\\appdata\\local\\programs\\python\\python39\\lib\\site-packages (from ipython>=6.1.0->ipywidgets) (0.2.0)\n",
      "Requirement already satisfied: decorator in c:\\users\\irina\\appdata\\local\\programs\\python\\python39\\lib\\site-packages (from ipython>=6.1.0->ipywidgets) (5.1.1)\n",
      "Requirement already satisfied: jedi>=0.16 in c:\\users\\irina\\appdata\\local\\programs\\python\\python39\\lib\\site-packages (from ipython>=6.1.0->ipywidgets) (0.18.2)\n",
      "Requirement already satisfied: pickleshare in c:\\users\\irina\\appdata\\local\\programs\\python\\python39\\lib\\site-packages (from ipython>=6.1.0->ipywidgets) (0.7.5)\n",
      "Requirement already satisfied: prompt-toolkit!=3.0.37,<3.1.0,>=3.0.30 in c:\\users\\irina\\appdata\\local\\programs\\python\\python39\\lib\\site-packages (from ipython>=6.1.0->ipywidgets) (3.0.38)\n",
      "Requirement already satisfied: pygments>=2.4.0 in c:\\users\\irina\\appdata\\local\\programs\\python\\python39\\lib\\site-packages (from ipython>=6.1.0->ipywidgets) (2.14.0)\n",
      "Requirement already satisfied: stack-data in c:\\users\\irina\\appdata\\local\\programs\\python\\python39\\lib\\site-packages (from ipython>=6.1.0->ipywidgets) (0.6.2)\n",
      "Requirement already satisfied: colorama in c:\\users\\irina\\appdata\\local\\programs\\python\\python39\\lib\\site-packages (from ipython>=6.1.0->ipywidgets) (0.4.6)\n",
      "Requirement already satisfied: cycler>=0.10 in c:\\users\\irina\\appdata\\local\\programs\\python\\python39\\lib\\site-packages (from matplotlib!=3.6.1,>=3.3->seaborn) (0.11.0)\n",
      "Requirement already satisfied: fonttools>=4.22.0 in c:\\users\\irina\\appdata\\local\\programs\\python\\python39\\lib\\site-packages (from matplotlib!=3.6.1,>=3.3->seaborn) (4.28.5)\n",
      "Requirement already satisfied: kiwisolver>=1.0.1 in c:\\users\\irina\\appdata\\local\\programs\\python\\python39\\lib\\site-packages (from matplotlib!=3.6.1,>=3.3->seaborn) (1.3.2)\n",
      "Requirement already satisfied: pillow>=6.2.0 in c:\\users\\irina\\appdata\\local\\programs\\python\\python39\\lib\\site-packages (from matplotlib!=3.6.1,>=3.3->seaborn) (8.4.0)\n",
      "Requirement already satisfied: pyparsing>=2.2.1 in c:\\users\\irina\\appdata\\local\\programs\\python\\python39\\lib\\site-packages (from matplotlib!=3.6.1,>=3.3->seaborn) (3.0.6)\n",
      "Requirement already satisfied: python-dateutil>=2.7 in c:\\users\\irina\\appdata\\local\\programs\\python\\python39\\lib\\site-packages (from matplotlib!=3.6.1,>=3.3->seaborn) (2.8.2)\n",
      "Requirement already satisfied: pytz>=2020.1 in c:\\users\\irina\\appdata\\local\\programs\\python\\python39\\lib\\site-packages (from pandas>=1.2->seaborn) (2023.3.post1)\n",
      "Requirement already satisfied: tzdata>=2022.1 in c:\\users\\irina\\appdata\\local\\programs\\python\\python39\\lib\\site-packages (from pandas>=1.2->seaborn) (2023.3)\n",
      "Requirement already satisfied: parso<0.9.0,>=0.8.0 in c:\\users\\irina\\appdata\\local\\programs\\python\\python39\\lib\\site-packages (from jedi>=0.16->ipython>=6.1.0->ipywidgets) (0.8.3)\n",
      "Requirement already satisfied: importlib-metadata>=4.8.3 in c:\\users\\irina\\appdata\\local\\programs\\python\\python39\\lib\\site-packages (from jupyter-client>=6.1.12->ipykernel>=4.5.1->ipywidgets) (6.0.0)\n",
      "Requirement already satisfied: platformdirs>=2.5 in c:\\users\\irina\\appdata\\local\\programs\\python\\python39\\lib\\site-packages (from jupyter-core!=5.0.*,>=4.12->ipykernel>=4.5.1->ipywidgets) (3.10.0)\n",
      "Requirement already satisfied: pywin32>=1.0 in c:\\users\\irina\\appdata\\local\\programs\\python\\python39\\lib\\site-packages (from jupyter-core!=5.0.*,>=4.12->ipykernel>=4.5.1->ipywidgets) (305)\n",
      "Requirement already satisfied: wcwidth in c:\\users\\irina\\appdata\\local\\programs\\python\\python39\\lib\\site-packages (from prompt-toolkit!=3.0.37,<3.1.0,>=3.0.30->ipython>=6.1.0->ipywidgets) (0.2.6)\n",
      "Requirement already satisfied: six>=1.5 in c:\\users\\irina\\appdata\\local\\programs\\python\\python39\\lib\\site-packages (from python-dateutil>=2.7->matplotlib!=3.6.1,>=3.3->seaborn) (1.16.0)\n",
      "Requirement already satisfied: executing>=1.2.0 in c:\\users\\irina\\appdata\\local\\programs\\python\\python39\\lib\\site-packages (from stack-data->ipython>=6.1.0->ipywidgets) (1.2.0)\n",
      "Requirement already satisfied: asttokens>=2.1.0 in c:\\users\\irina\\appdata\\local\\programs\\python\\python39\\lib\\site-packages (from stack-data->ipython>=6.1.0->ipywidgets) (2.2.1)\n",
      "Requirement already satisfied: pure-eval in c:\\users\\irina\\appdata\\local\\programs\\python\\python39\\lib\\site-packages (from stack-data->ipython>=6.1.0->ipywidgets) (0.2.2)\n",
      "Requirement already satisfied: zipp>=0.5 in c:\\users\\irina\\appdata\\local\\programs\\python\\python39\\lib\\site-packages (from importlib-metadata>=4.8.3->jupyter-client>=6.1.12->ipykernel>=4.5.1->ipywidgets) (3.15.0)\n",
      "Downloading seaborn-0.13.0-py3-none-any.whl (294 kB)\n",
      "   ---------------------------------------- 0.0/294.6 kB ? eta -:--:--\n",
      "   ---- ----------------------------------- 30.7/294.6 kB ? eta -:--:--\n",
      "   -------- ------------------------------ 61.4/294.6 kB 648.1 kB/s eta 0:00:01\n",
      "   --------------- ---------------------- 122.9/294.6 kB 798.9 kB/s eta 0:00:01\n",
      "   ------------------------------- -------- 235.5/294.6 kB 1.1 MB/s eta 0:00:01\n",
      "   -------------------------------------- - 286.7/294.6 kB 1.0 MB/s eta 0:00:01\n",
      "   ---------------------------------------- 294.6/294.6 kB 1.0 MB/s eta 0:00:00\n",
      "Installing collected packages: seaborn\n",
      "Successfully installed seaborn-0.13.0\n"
     ]
    }
   ],
   "source": [
    "!pip install seaborn ipywidgets  "
   ]
  },
  {
   "cell_type": "code",
   "execution_count": 3,
   "id": "276afc82",
   "metadata": {},
   "outputs": [],
   "source": [
    "import numpy as np\n",
    "import matplotlib.pyplot as plt\n",
    "\n",
    "import seaborn as sns\n",
    "sns.set_style('darkgrid')\n",
    "\n",
    "import ipywidgets as widgets"
   ]
  },
  {
   "cell_type": "markdown",
   "id": "8e569475",
   "metadata": {},
   "source": [
    "$x_k=-5+k\\frac{10}{n}$ $k=0..n$\n",
    "\\\n",
    "$y_k=\\frac{1}{1+x_k^2}$ $n=4..15$"
   ]
  },
  {
   "cell_type": "code",
   "execution_count": 27,
   "id": "cd5b7dcc",
   "metadata": {},
   "outputs": [],
   "source": [
    "a = -5\n",
    "b = 5\n",
    "\n",
    "# x_k = lambda k, n: -5 + k * (10 / n)\n",
    "x_k = lambda k, n: (a+b)/2 + (b-a)/2 * np.cos((np.pi*(2*k+1))/(2*(n+1)))\n",
    "y_k = lambda k, n: 1 / (1 + x_k(k, n)**2)\n",
    "# y_k = lambda k, n: np.abs(x_k(k, n))"
   ]
  },
  {
   "cell_type": "code",
   "execution_count": 5,
   "id": "e0579636",
   "metadata": {},
   "outputs": [],
   "source": [
    "def getXY(n: int) -> (np.ndarray, np.ndarray):\n",
    "    K = np.arange(0, n+1)\n",
    "    return x_k(K, n), y_k(K, n)"
   ]
  },
  {
   "cell_type": "markdown",
   "id": "1db01919",
   "metadata": {},
   "source": [
    "**Lets plot!**"
   ]
  },
  {
   "cell_type": "code",
   "execution_count": 6,
   "id": "bf4089f6",
   "metadata": {},
   "outputs": [
    {
     "data": {
      "application/vnd.jupyter.widget-view+json": {
       "model_id": "56c0efb7f5854c6a818c2643e1f2f432",
       "version_major": 2,
       "version_minor": 0
      },
      "text/plain": [
       "interactive(children=(IntSlider(value=4, description='n', max=15, min=4), Output()), _dom_classes=('widget-int…"
      ]
     },
     "metadata": {},
     "output_type": "display_data"
    }
   ],
   "source": [
    "@widgets.interact(n=(4, 15))\n",
    "def drawFunction(n: int = 4):\n",
    "    plt.figure(figsize=(15, 7), dpi=70)\n",
    "    x, y = getXY(n)\n",
    "    plt.plot(x, y, 'or', label=f\"$n={n}$\")\n",
    "    plt.legend(loc='best')\n",
    "    plt.show()"
   ]
  },
  {
   "cell_type": "markdown",
   "id": "13056561",
   "metadata": {},
   "source": [
    "### Lagrange interpolation"
   ]
  },
  {
   "cell_type": "markdown",
   "id": "fe8b6d20",
   "metadata": {},
   "source": [
    "$l_i(x)=\\prod_{0\\leq j \\leq n, j\\neq i}(x-x_j)$"
   ]
  },
  {
   "cell_type": "markdown",
   "id": "e57dddd7",
   "metadata": {},
   "source": [
    "$P_n(x) =\\sum_{i=0}^n y(x_i) \\cdot \\frac{l_i(x)}{l_i(x_i)}$"
   ]
  },
  {
   "cell_type": "code",
   "execution_count": 7,
   "id": "27d39679",
   "metadata": {},
   "outputs": [],
   "source": [
    "def LagrangePoly(X: np.ndarray, Y: np.ndarray):\n",
    "    \n",
    "    assert X.size == Y.size\n",
    "    n = X.size\n",
    "    \n",
    "    l = lambda x, i: np.prod([(x - X[j]) for j in range(n) if j != i])\n",
    "    \n",
    "    P = lambda x: np.sum([Y[i] * (l(x, i)) / (l(X[i], i)) for i in range(n)])\n",
    "    \n",
    "    return P"
   ]
  },
  {
   "cell_type": "code",
   "execution_count": 28,
   "id": "b6e37071",
   "metadata": {},
   "outputs": [
    {
     "data": {
      "application/vnd.jupyter.widget-view+json": {
       "model_id": "297dbb4279624a48866af3ba71d0dc53",
       "version_major": 2,
       "version_minor": 0
      },
      "text/plain": [
       "interactive(children=(IntSlider(value=4, description='n', max=15, min=4), Output()), _dom_classes=('widget-int…"
      ]
     },
     "metadata": {},
     "output_type": "display_data"
    }
   ],
   "source": [
    "@widgets.interact(n=(4, 15))\n",
    "def drawLagrangeInterpolation(n: int = 4):\n",
    "    fg, ax = plt.subplots(1, 2, figsize=(16, 8), dpi=100)\n",
    "    X, Y = getXY(n)\n",
    "    P = LagrangePoly(X, Y)\n",
    "    xx = np.linspace(X[0], X[-1], 1000)\n",
    "    yy =  np.vectorize(P)(xx)\n",
    "    OriginalY = np.vectorize(lambda x: 1 / (1 + x**2))(xx)\n",
    "#     OriginalY = np.vectorize(lambda x: np.abs(x))(xx)\n",
    "    #OriginalY = np.vectorize(lambda x: np.cos(x))(xx)\n",
    "    ax[0].plot(X, Y, 'or')\n",
    "    ax[0].plot(xx, yy, linestyle=':', label=r\"$Lagrange \\ P_n(x)$\")\n",
    "    ax[0].plot(xx, OriginalY, label=r\"$\\frac{1}{1+x^2}$\")\n",
    "    ax[1].plot(xx, np.abs(yy - OriginalY))\n",
    "    ax[1].set_title(r'$Lagrange \\ |P_n(x) - \\frac{1}{1+x^2}|$')\n",
    "    ax[0].legend(loc='best')"
   ]
  },
  {
   "cell_type": "markdown",
   "id": "e18c0116",
   "metadata": {},
   "source": [
    "### Newton interpolation"
   ]
  },
  {
   "cell_type": "markdown",
   "id": "65d00a0c",
   "metadata": {},
   "source": [
    "$P(x) = P(x_0) + \\sum_{k=1}^{n} P(x_0,x_1,...,x_k)\\prod_{j=0}^{k-1}(x-x_j)$"
   ]
  },
  {
   "cell_type": "code",
   "execution_count": 12,
   "id": "87929404",
   "metadata": {},
   "outputs": [],
   "source": [
    "# Util Function\n",
    "def NewtonFillTable(X: np.ndarray, Y: np.ndarray):\n",
    "    \n",
    "    assert X.size == Y.size\n",
    "    n = X.size\n",
    "    A = np.zeros((n, n + 1))\n",
    "    A[:, 0] = X[:]\n",
    "    A[:, 1] = Y[:]\n",
    "    \n",
    "    for j in range(2, n+1):\n",
    "        for i in range(j-1, n):\n",
    "            A[i, j] = (A[i, j-1] - A[i-1, j-1]) / (A[i, 0] - A[i-j+1, 0])\n",
    "    \n",
    "    p = np.zeros(n)\n",
    "    for k in range(n):\n",
    "        p[k] = A[k, k+1]\n",
    "    \n",
    "    return p"
   ]
  },
  {
   "cell_type": "code",
   "execution_count": 13,
   "id": "bad83ca5",
   "metadata": {},
   "outputs": [],
   "source": [
    "def NewtonPoly(t, X: np.ndarray, Y: np.ndarray):\n",
    "    p = NewtonFillTable(X, Y)\n",
    "    n = X.size\n",
    "    res = p[n-1]\n",
    "    for i in range(n-2, -1, -1):\n",
    "        res = res * (t-X[i]) + p[i]\n",
    "    return res"
   ]
  },
  {
   "cell_type": "code",
   "execution_count": 20,
   "id": "141b3021",
   "metadata": {
    "scrolled": false
   },
   "outputs": [
    {
     "data": {
      "application/vnd.jupyter.widget-view+json": {
       "model_id": "3c62ea194fee45a18318cfef49b78831",
       "version_major": 2,
       "version_minor": 0
      },
      "text/plain": [
       "interactive(children=(IntSlider(value=4, description='n', max=15, min=4), Output()), _dom_classes=('widget-int…"
      ]
     },
     "metadata": {},
     "output_type": "display_data"
    }
   ],
   "source": [
    "@widgets.interact(n=(4, 15))\n",
    "def drawNewtonInterpolation(n: int = 4):\n",
    "    fg, ax = plt.subplots(1, 2, figsize=(16, 8), dpi=100)\n",
    "    X, Y = getXY(n)\n",
    "    ax[0].plot(X, Y, 'or')\n",
    "    \n",
    "    xx = np.linspace(X[0], X[-1], 1000)\n",
    "    yy = NewtonPoly(xx, X, Y)\n",
    "\n",
    "\n",
    "    OriginalY = np.vectorize(lambda x: 1 / (1 + x**2))(xx)\n",
    "    #OriginalY = np.vectorize(lambda x: np.cos(x))(xx)\n",
    "#     P = LagrangePoly(X, Y)\n",
    "#     ax[0].plot(xx, np.vectorize(P)(xx), linestyle='-.', label=r\"$Lagrange \\ P_n(x)$\")\n",
    "    ax[0].plot(xx, yy, linestyle=':', label=r\"$Newton \\ P_n(x)$\")\n",
    "    ax[0].plot(xx, OriginalY, label=r\"$\\frac{1}{1+x^2}$\")\n",
    "    ax[1].plot(xx, np.abs(yy - OriginalY))\n",
    "    ax[1].set_title(r'$Newton \\ |P_n(x) - \\frac{1}{1+x^2}|$')\n",
    "    ax[0].legend(loc='best')"
   ]
  }
 ],
 "metadata": {
  "kernelspec": {
   "display_name": "Python 3 (ipykernel)",
   "language": "python",
   "name": "python3"
  },
  "language_info": {
   "codemirror_mode": {
    "name": "ipython",
    "version": 3
   },
   "file_extension": ".py",
   "mimetype": "text/x-python",
   "name": "python",
   "nbconvert_exporter": "python",
   "pygments_lexer": "ipython3",
   "version": "3.9.5"
  }
 },
 "nbformat": 4,
 "nbformat_minor": 5
}
