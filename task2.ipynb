{
 "cells": [
  {
   "cell_type": "markdown",
   "id": "aaf1b722",
   "metadata": {},
   "source": [
    "## Задача 2"
   ]
  },
  {
   "cell_type": "code",
   "execution_count": 2,
   "id": "78751fa9",
   "metadata": {},
   "outputs": [],
   "source": [
    "import numpy as np\n",
    "from matplotlib import pyplot as plt\n",
    "np.seterr(divide='ignore'); #установить способ обработки ошибок с плавающей запятой, игнорировать: не предпринимать никаких действий при возникновении исключения.\n",
    "plt.rcParams[\"figure.figsize\"] = (5,5) # figure size in inches\n",
    "plt.rcParams['figure.dpi'] = 100 # figure dots per inch"
   ]
  },
  {
   "cell_type": "code",
   "execution_count": 3,
   "id": "763ba2ef",
   "metadata": {},
   "outputs": [],
   "source": [
    "a = 3\n",
    "U0 = 0.001\n",
    "E0 = -0.95\n",
    "precision=10e-9"
   ]
  },
  {
   "cell_type": "markdown",
   "id": "33833676",
   "metadata": {},
   "source": [
    "$f(\\zeta) = \\cot \\sqrt{2a^2U_0 * (1-\\zeta )} - \\sqrt{\\frac{1}{\\zeta}-1}=0$"
   ]
  },
  {
   "cell_type": "code",
   "execution_count": 4,
   "id": "cf6e9c65",
   "metadata": {},
   "outputs": [],
   "source": [
    "# original fucntion\n",
    "# def f(E):\n",
    "#     return (1/np.tan(np.sqrt(2 * a * a * U0 * (1 + E/U0)))) - np.sqrt((-U0/E) - 1) \n",
    "def f(E):\n",
    "    return np.cos(np.sqrt(2 * a * a * U0 * (1 + E/U0)))**2 - 1 - E/U0"
   ]
  },
  {
   "cell_type": "code",
   "execution_count": 5,
   "id": "d26f424a",
   "metadata": {},
   "outputs": [],
   "source": [
    "# derivative of original function\n",
    "# def df(E):\n",
    "#     return - (a ** 2) / ((np.sin(np.sqrt(2 * a * a * U0 * (1 + E/U0))) ** 2) * np.sqrt(2 * a * a * U0 * (1 + E/U0))) - (U0/2)/(E**2*((-U0/E) - 1))\n",
    "def df(E):\n",
    "    return 2 * np.cos(np.sqrt(2 * a * a * U0 * (1 + E/U0))) * (-1)*np.sin(np.sqrt(2 * a * a * U0 * (1 + E/U0))) * (2 * a * a * U0 * (1 + E/U0))**(-1/2)*a*a - 1/U0"
   ]
  },
  {
   "cell_type": "code",
   "execution_count": 17,
   "id": "8ede6a8b",
   "metadata": {},
   "outputs": [
    {
     "data": {
      "image/png": "[encoded data removed]",
      "text/plain": [
       "<Figure size 500x500 with 1 Axes>"
      ]
     },
     "metadata": {},
     "output_type": "display_data"
    }
   ],
   "source": [
    "dom = np.linspace(-U0, 0.0001, 10000) #numpy.linspace (start, end, num = num_points)\n",
    "val = f(dom)\n",
    "plt.xlabel(\"E (Energy)\")\n",
    "plt.ylabel(\"f(E)\")\n",
    "plt.ylim([-15, 15])\n",
    "plt.hlines(0, xmin=-U0, xmax=0.0001, colors='k') #горизонтальные линии на каждом y от xmin до xmax\n",
    "plt.vlines(min(0, np.pi**2/(8*a*a)-U0), ymin=-15, ymax=15, colors='green', linestyles='--', label='Estimation to original rule') #вертикальные линии в каждом x от ymin до ymax\n",
    "plt.plot(dom, val)\n",
    "plt.grid()\n",
    "#plt.legend(loc='lower left')\n",
    "plt.show()"
   ]
  },
  {
   "cell_type": "markdown",
   "id": "ce95c2c2",
   "metadata": {},
   "source": [
    "# Dichotomy"
   ]
  },
  {
   "cell_type": "code",
   "execution_count": 7,
   "id": "cea59cb6",
   "metadata": {},
   "outputs": [],
   "source": [
    "def dyhotomy(a, b, counterDichotomy=0, eps=10e-3):\n",
    "    while abs(f(b)-f(a)) > eps:\n",
    "        counterDichotomy += 1\n",
    "        mid = (a+b) / 2\n",
    "        if f(mid) == 0 or abs(f(mid)) < eps:\n",
    "            print('Корень по методу дихотомии находится в точке x = {}'.format(mid))\n",
    "            print(\"Deep of recursion in Dichotomy: {}\".format(counterDichotomy))\n",
    "            break\n",
    "        elif f(a)*f(mid) < 0:\n",
    "            b = mid\n",
    "        else:\n",
    "            a = mid\n",
    "    else:\n",
    "        print('Корень не найден')\n",
    "    return mid"
   ]
  },
  {
   "cell_type": "markdown",
   "id": "07bcc447",
   "metadata": {},
   "source": [
    "*($-U_0$, $\\frac{\\pi^2}{8a^2} - U_0$)*"
   ]
  },
  {
   "cell_type": "code",
   "execution_count": 8,
   "id": "082cf178",
   "metadata": {},
   "outputs": [
    {
     "name": "stdout",
     "output_type": "stream",
     "text": [
      "Корень по методу дихотомии находится в точке x = -1.5625e-05\n",
      "Deep of recursion in Dichotomy: 7\n",
      "f(-1.5625e-05) = -0.001989345559002209\n"
     ]
    }
   ],
   "source": [
    "dichotomyRoot = dyhotomy(-U0, 0.001)\n",
    "print('f({}) = {}'.format(dichotomyRoot, f(dichotomyRoot)))"
   ]
  },
  {
   "cell_type": "markdown",
   "id": "87201b89",
   "metadata": {},
   "source": [
    "# Iteration Method"
   ]
  },
  {
   "cell_type": "code",
   "execution_count": 9,
   "id": "46860b68",
   "metadata": {},
   "outputs": [],
   "source": [
    "#l = 1 / df(np.pi**2/(8*a*a)-U0)\n",
    "l = 1 / df(0.001)\n",
    "\n",
    "def iterationMethod(x, q=-2.8, counterIter=0, eps=precision):\n",
    "    x_ = - l * f(x)\n",
    "    err = np.abs(q - x)\n",
    "    if err <= eps:\n",
    "        print(\"Deep of recursion in FPI: {}\".format(counterIter))\n",
    "        return x\n",
    "    counterIter += 1\n",
    "    return iterationMethod(x + x_, x, counterIter)"
   ]
  },
  {
   "cell_type": "code",
   "execution_count": 10,
   "id": "6e9bc76c",
   "metadata": {},
   "outputs": [
    {
     "name": "stdout",
     "output_type": "stream",
     "text": [
      "Deep of recursion in FPI: 3\n",
      "Корень по методу простых итераций находится в точке x = -1.7579576891949808e-05\n",
      "f(-1.7579576891949808e-05) = 5.047216117270992e-12\n"
     ]
    }
   ],
   "source": [
    "IterRoot = iterationMethod(0.001)\n",
    "print(f'Корень по методу простых итераций находится в точке x = {IterRoot}')\n",
    "print('f({}) = {}'.format(IterRoot, f(IterRoot)))\n",
    "# IterRoot = iterationMethod(-1.6)\n",
    "# print(f'Корень по методу простых итераций находится в точке x = {IterRoot}')\n",
    "# print('f({}) = {}'.format(IterRoot, f(IterRoot)))\n",
    "# IterRoot = iterationMethod(-0.1)\n",
    "# print(f'Корень по методу простых итераций находится в точке x = {IterRoot}')\n",
    "# print('f({}) = {}'.format(IterRoot, f(IterRoot)))"
   ]
  },
  {
   "cell_type": "markdown",
   "id": "68fa99fd",
   "metadata": {},
   "source": [
    "# Newton's Method"
   ]
  },
  {
   "cell_type": "code",
   "execution_count": 11,
   "id": "77e8e86d",
   "metadata": {},
   "outputs": [],
   "source": [
    "def Newton(x, q=IterRoot, counterNewton=0, eps=precision):\n",
    "    x_ = f(x) / df(x)\n",
    "    err = np.abs(q - x)\n",
    "    if err < eps:\n",
    "        print(\"Deep of recursion in NM: {}\".format(counterNewton))\n",
    "        return x\n",
    "    counterNewton += 1\n",
    "    return Newton(x - x_, x, counterNewton)"
   ]
  },
  {
   "cell_type": "code",
   "execution_count": 12,
   "id": "7f7e9d5d",
   "metadata": {},
   "outputs": [
    {
     "name": "stdout",
     "output_type": "stream",
     "text": [
      "Deep of recursion in NM: 3\n",
      "Корень по методу Ньютона находится в точке x = -1.7579576886990755e-05\n",
      "f(-1.7579576886990755e-05) = -1.0061396160665481e-16\n"
     ]
    }
   ],
   "source": [
    "NewtRoot = Newton(0.001)\n",
    "print('Корень по методу Ньютона находится в точке x = {}'.format(NewtRoot))\n",
    "print('f({}) = {}'.format(NewtRoot, f(NewtRoot)))\n",
    "# NewtRoot = Newton(-1.6)\n",
    "# print('Корень по методу Ньютона находится в точке x = {}'.format(NewtRoot))\n",
    "# print('f({}) = {}'.format(NewtRoot, f(NewtRoot)))\n",
    "# NewtRoot = Newton(-0.1)\n",
    "# print('Корень по методу Ньютона находится в точке x = {}'.format(NewtRoot))\n",
    "# print('f({}) = {}'.format(NewtRoot, f(NewtRoot)))"
   ]
  }
 ],
 "metadata": {
  "kernelspec": {
   "display_name": "Python 3 (ipykernel)",
   "language": "python",
   "name": "python3"
  },
  "language_info": {
   "codemirror_mode": {
    "name": "ipython",
    "version": 3
   },
   "file_extension": ".py",
   "mimetype": "text/x-python",
   "name": "python",
   "nbconvert_exporter": "python",
   "pygments_lexer": "ipython3",
   "version": "3.9.5"
  }
 },
 "nbformat": 4,
 "nbformat_minor": 5
}
